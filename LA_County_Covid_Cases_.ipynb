{
  "nbformat": 4,
  "nbformat_minor": 0,
  "metadata": {
    "colab": {
      "name": "LA County Covid Cases .ipynb",
      "provenance": [],
      "collapsed_sections": [],
      "authorship_tag": "ABX9TyOnGq/ZGroyCruwizTBFxR3",
      "include_colab_link": true
    },
    "kernelspec": {
      "name": "python3",
      "display_name": "Python 3"
    }
  },
  "cells": [
    {
      "cell_type": "markdown",
      "metadata": {
        "id": "view-in-github",
        "colab_type": "text"
      },
      "source": [
        "<a href=\"https://colab.research.google.com/github/nonoumasy/LA-County-Covid-Cases/blob/master/LA_County_Covid_Cases_.ipynb\" target=\"_parent\"><img src=\"https://colab.research.google.com/assets/colab-badge.svg\" alt=\"Open In Colab\"/></a>"
      ]
    },
    {
      "cell_type": "code",
      "metadata": {
        "id": "mFqFvh0--vpI",
        "colab_type": "code",
        "colab": {}
      },
      "source": [
        "import pandas as pd\n",
        "from geopy.geocoders import Nominatim"
      ],
      "execution_count": 0,
      "outputs": []
    },
    {
      "cell_type": "code",
      "metadata": {
        "id": "jni9lZ91-xVV",
        "colab_type": "code",
        "colab": {}
      },
      "source": [
        "# load data from url\n",
        "df = pd.DataFrame(pd.read_html('http://publichealth.lacounty.gov/media/Coronavirus/locations.htm')[0])"
      ],
      "execution_count": 0,
      "outputs": []
    },
    {
      "cell_type": "code",
      "metadata": {
        "id": "VLcTp3ZM-0mf",
        "colab_type": "code",
        "colab": {}
      },
      "source": [
        "# skip rows\n",
        "la_df = df.iloc[22:, :].reset_index(drop=True)\n",
        "\n",
        "# long beach and pasadena\n",
        "lb_df = df.iloc[2:4, :]\n",
        "\n",
        "# number of cases and deaths\n",
        "cases_deaths_df = df.iloc[[0, 5], :]\n",
        "cases_deaths_df.columns = [0,1]\n",
        "cases_deaths_df.to_csv('death.csv')"
      ],
      "execution_count": 0,
      "outputs": []
    },
    {
      "cell_type": "code",
      "metadata": {
        "id": "bAJDHGPgsLHh",
        "colab_type": "code",
        "colab": {}
      },
      "source": [
        "def cleanup_df(df):\n",
        "  df.columns = df.columns.str.lower().str.replace(' ', '_')\n",
        "\n",
        "  df = df[df.locations != 'City of Los Angeles']\n",
        "\n",
        "  # cleanup values\n",
        "  df.locations = df.locations.str.replace('*', '').str.replace('City of ', '').str.replace('Los Angeles - ', '').str.replace('Unincorporated - ', '').str.replace('-', '').str.strip()\n",
        "  df['total_cases'] = df.total_cases.str.replace('--', '0')\n",
        "\n",
        "  # convert to numeric column\n",
        "  df['total_cases'] = pd.to_numeric(df['total_cases'])\n",
        "\n",
        "  # drop under investigation\n",
        "  df = df[df.locations != 'Under Investigation']\n",
        "\n",
        "  # split location and keep first value\n",
        "  df['locations'] = df['locations'].apply(lambda x : x.split('/')[0])\n",
        "\n",
        "  #\n",
        "  df = df.sort_values('locations')\n",
        "\n",
        "  # reset index\n",
        "  df.reset_index(drop=True, inplace=True)\n",
        "\n",
        "  return df"
      ],
      "execution_count": 0,
      "outputs": []
    },
    {
      "cell_type": "code",
      "metadata": {
        "id": "dYY5mpnBr9KF",
        "colab_type": "code",
        "colab": {}
      },
      "source": [
        "la_df = cleanup_df(la_df)\n",
        "lb_df = cleanup_df(lb_df)"
      ],
      "execution_count": 0,
      "outputs": []
    },
    {
      "cell_type": "code",
      "metadata": {
        "id": "CLkxFuwF_2zQ",
        "colab_type": "code",
        "colab": {}
      },
      "source": [
        "#\n",
        "la_df.drop_duplicates('locations', inplace=True)\n",
        "new_df = pd.concat([la_df, lb_df], ignore_index=True)\n",
        "new_df.drop_duplicates('locations', keep='last', inplace=True)\n",
        "new_df = new_df.reset_index()\n",
        "\n",
        "# load locations_df with geocoded\n",
        "locations_df = pd.read_csv('/content/locations_df.csv')\n",
        "\n",
        "# merge\n",
        "temp_df = new_df.merge(locations_df)\n",
        "\n",
        "# save to csv\n",
        "temp_df[['locations', 'total_cases', 'lat', 'lon']].to_csv('la_county_coronavirus.csv', )"
      ],
      "execution_count": 0,
      "outputs": []
    },
    {
      "cell_type": "markdown",
      "metadata": {
        "id": "c8y3GkQfK4f0",
        "colab_type": "text"
      },
      "source": [
        "# Geocode"
      ]
    },
    {
      "cell_type": "code",
      "metadata": {
        "id": "u9H1L92tzhq3",
        "colab_type": "code",
        "colab": {}
      },
      "source": [
        "# prep location for geocoding. Explicitly add ', Los Angeles, California' so the geocoder finds the location\n",
        "\n",
        "def geocode(df):\n",
        "  df['loc_prep'] = 'temp'\n",
        "\n",
        "  for i in range(len(df)):\n",
        "    df['loc_prep'][i] = str(df.ocations[i]) + ', Los Angeles, California'\n",
        "\n",
        "  # create and initialize coords column\n",
        "  df['coords'] = 0.0\n",
        "\n",
        "  # geocode locations\n",
        "  geolocator = Nominatim(user_agent=\"sdfasdf\")\n",
        "\n",
        "  # to space out the geocoding\n",
        "  from geopy.extra.rate_limiter import RateLimiter\n",
        "\n",
        "  geocode = RateLimiter(geolocator.geocode, min_delay_seconds=1)\n",
        "  df['coords'] = df.loc_prep.apply(lambda x : geocode(x))\n",
        "\n",
        "  #\n",
        "  df['lat'] = df.coords.apply(lambda x: x.latitude if x !=None else 0.0)\n",
        "  df['lon'] = df.coords.apply(lambda x: x.longitude if x !=None else 0.0)\n",
        "\n",
        "  return df"
      ],
      "execution_count": 0,
      "outputs": []
    }
  ]
}