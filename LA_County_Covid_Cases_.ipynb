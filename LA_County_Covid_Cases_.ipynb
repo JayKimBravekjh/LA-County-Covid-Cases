{
  "nbformat": 4,
  "nbformat_minor": 0,
  "metadata": {
    "colab": {
      "name": "LA County Covid Cases .ipynb",
      "provenance": [],
      "collapsed_sections": [],
      "authorship_tag": "ABX9TyOU3O6+qJH1AyNW6ZO3/oYM",
      "include_colab_link": true
    },
    "kernelspec": {
      "name": "python3",
      "display_name": "Python 3"
    }
  },
  "cells": [
    {
      "cell_type": "markdown",
      "metadata": {
        "id": "view-in-github",
        "colab_type": "text"
      },
      "source": [
        "<a href=\"https://colab.research.google.com/github/nonoumasy/LA-County-Covid-Cases/blob/master/LA_County_Covid_Cases_.ipynb\" target=\"_parent\"><img src=\"https://colab.research.google.com/assets/colab-badge.svg\" alt=\"Open In Colab\"/></a>"
      ]
    },
    {
      "cell_type": "code",
      "metadata": {
        "id": "mFqFvh0--vpI",
        "colab_type": "code",
        "colab": {}
      },
      "source": [
        "import pandas as pd"
      ],
      "execution_count": 0,
      "outputs": []
    },
    {
      "cell_type": "code",
      "metadata": {
        "id": "jni9lZ91-xVV",
        "colab_type": "code",
        "colab": {}
      },
      "source": [
        "# load data from url\n",
        "df = pd.DataFrame(pd.read_html('http://publichealth.lacounty.gov/media/Coronavirus/locations.htm')[0])"
      ],
      "execution_count": 0,
      "outputs": []
    },
    {
      "cell_type": "code",
      "metadata": {
        "id": "VLcTp3ZM-0mf",
        "colab_type": "code",
        "colab": {}
      },
      "source": [
        "# skip rows\n",
        "new_df = df.iloc[22:, :].reset_index(drop=True)\n",
        "\n",
        "# clean values\n",
        "new_df.Locations = new_df.Locations.str.replace('*', '')\n",
        "\n",
        "# convert to numeric column\n",
        "new_df['Total Cases'] = pd.to_numeric(new_df['Total Cases'])\n",
        "new_df['Total Cases'].sum()\n",
        "\n",
        "# save to csv\n",
        "new_df.to_csv('la_county_coronavirus.csv')\n",
        "# save other table\n",
        "demo_df = pd.DataFrame((df.iloc[12:16, :]))\n",
        "demo_df.columns = ['age_group', 'cases']\n",
        "demo_df.to_csv('demo_df.csv')"
      ],
      "execution_count": 0,
      "outputs": []
    }
  ]
}