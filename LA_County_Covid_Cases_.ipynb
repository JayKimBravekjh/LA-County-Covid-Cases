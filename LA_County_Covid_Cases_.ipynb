{
  "nbformat": 4,
  "nbformat_minor": 0,
  "metadata": {
    "colab": {
      "name": "LA County Covid Cases .ipynb",
      "provenance": [],
      "collapsed_sections": [],
      "authorship_tag": "ABX9TyNM3yFAGR1cZapBaX0O3+Vp",
      "include_colab_link": true
    },
    "kernelspec": {
      "name": "python3",
      "display_name": "Python 3"
    }
  },
  "cells": [
    {
      "cell_type": "markdown",
      "metadata": {
        "id": "view-in-github",
        "colab_type": "text"
      },
      "source": [
        "<a href=\"https://colab.research.google.com/github/nonoumasy/LA-County-Covid-Cases/blob/master/LA_County_Covid_Cases_.ipynb\" target=\"_parent\"><img src=\"https://colab.research.google.com/assets/colab-badge.svg\" alt=\"Open In Colab\"/></a>"
      ]
    },
    {
      "cell_type": "code",
      "metadata": {
        "id": "mFqFvh0--vpI",
        "colab_type": "code",
        "colab": {}
      },
      "source": [
        "import pandas as pd\n",
        "from geopy.geocoders import Nominatim"
      ],
      "execution_count": 0,
      "outputs": []
    },
    {
      "cell_type": "code",
      "metadata": {
        "id": "jni9lZ91-xVV",
        "colab_type": "code",
        "colab": {}
      },
      "source": [
        "# load data from url\n",
        "df = pd.DataFrame(pd.read_html('http://publichealth.lacounty.gov/media/Coronavirus/locations.htm')[0])"
      ],
      "execution_count": 0,
      "outputs": []
    },
    {
      "cell_type": "code",
      "metadata": {
        "id": "VLcTp3ZM-0mf",
        "colab_type": "code",
        "colab": {}
      },
      "source": [
        "# skip rows\n",
        "new_df = df.iloc[22:, :].reset_index(drop=True)\n",
        "\n",
        "new_df.columns = df.columns.str.lower().str.replace(' ', '_')\n",
        "\n",
        "new_df = new_df[new_df.locations != 'City of Los Angeles']\n",
        "\n",
        "# cleanup values\n",
        "new_df.locations = new_df.locations.str.replace('*', '').str.replace('City of ', '').str.replace('Los Angeles - ', '').str.replace('Unincorporated - ', '')\n",
        "new_df['total_cases'] = new_df.total_cases.str.replace('--', '0')\n",
        "\n",
        "# convert to numeric column\n",
        "new_df['total_cases'] = pd.to_numeric(new_df['total_cases'])\n",
        "\n",
        "# drop under investigation\n",
        "new_df = new_df[new_df.locations != '- Under Investigation']\n",
        "\n",
        "# split location and keep first value\n",
        "new_df['locations'] = new_df['locations'].apply(lambda x : x.split('/')[0]).apply(lambda x : x.split('-')[0])\n",
        "\n",
        "#\n",
        "new_df = new_df.sort_values('locations')\n",
        "\n",
        "# reset index\n",
        "new_df.reset_index(drop=True, inplace=True)"
      ],
      "execution_count": 0,
      "outputs": []
    },
    {
      "cell_type": "code",
      "metadata": {
        "id": "lq6EG93WdtZv",
        "colab_type": "code",
        "colab": {}
      },
      "source": [
        "# load locations_df with geocoded\n",
        "locations_df = pd.read_csv('/content/locations_df.csv')\n",
        "\n",
        "# cleanup\n",
        "locations_df = locations_df[['Locations', 'lat', 'lon']]\n",
        "locations_df.columns= locations_df.columns = ['locations', 'lat', 'lon']\n",
        "\n",
        "# merge with new_df\n",
        "update_df = pd.merge(new_df, locations_df, how='inner', left_on='locations', right_on='locations')\n",
        "\n",
        "# \n",
        "update_df.to_csv('la_county_coronavirus.csv')"
      ],
      "execution_count": 0,
      "outputs": []
    },
    {
      "cell_type": "code",
      "metadata": {
        "id": "u9H1L92tzhq3",
        "colab_type": "code",
        "outputId": "06c51256-b3d7-485d-a149-10790d81b3e3",
        "colab": {
          "base_uri": "https://localhost:8080/",
          "height": 102
        }
      },
      "source": [
        "# prep location for geocoding. Explicitly add ', Los Angeles, California' so the geocoder finds the location\n",
        "new_df['loc_prep'] = 'temp'\n",
        "for i in range(len(new_df)):\n",
        "  new_df['loc_prep'][i] = str(new_df.Locations[i]) + ', Los Angeles, California'\n",
        "\n",
        "# create and initialize coords column\n",
        "new_df['coords'] = 0.0\n",
        "\n",
        "# geocode locations\n",
        "geolocator = Nominatim(user_agent=\"sdfasdf\")\n",
        "\n",
        "# to space out the geocoding\n",
        "from geopy.extra.rate_limiter import RateLimiter\n",
        "\n",
        "geocode = RateLimiter(geolocator.geocode, min_delay_seconds=1)\n",
        "new_df['coords'] = new_df.loc_prep.apply(lambda x : geocode(x))\n",
        "\n",
        "#\n",
        "new_df['lat'] = new_df.coords.apply(lambda x: x.latitude if x !=None else 0.0)\n",
        "new_df['lon'] = new_df.coords.apply(lambda x: x.longitude if x !=None else 0.0)\n",
        "\n",
        "# save to csv\n",
        "new_df.to_csv('la_county_coronavirus.csv')\n",
        "\n",
        "# save death table\n",
        "age_df = pd.DataFrame((df.iloc[12:16, :]))\n",
        "age_df.columns = ['age_group', 'cases']\n",
        "age_df.to_csv('age_df.csv')\n",
        "\n",
        "# \n",
        "new_df.to_csv('la_county_covid.csv')\n",
        "\n",
        "# save locations(geocoded) to a csv\n",
        "locations_df = new_df[['Locations', 'lat', 'lon']]\n",
        "locations_df.to_csv('locations_df.csv')"
      ],
      "execution_count": 0,
      "outputs": [
        {
          "output_type": "stream",
          "text": [
            "/usr/local/lib/python3.6/dist-packages/ipykernel_launcher.py:3: SettingWithCopyWarning: \n",
            "A value is trying to be set on a copy of a slice from a DataFrame\n",
            "\n",
            "See the caveats in the documentation: http://pandas.pydata.org/pandas-docs/stable/user_guide/indexing.html#returning-a-view-versus-a-copy\n",
            "  This is separate from the ipykernel package so we can avoid doing imports until\n"
          ],
          "name": "stderr"
        }
      ]
    },
    {
      "cell_type": "code",
      "metadata": {
        "id": "4FjuxBSJpxnS",
        "colab_type": "code",
        "outputId": "2ef14bb2-e320-420b-859c-8d4d94c464df",
        "colab": {
          "base_uri": "https://localhost:8080/",
          "height": 111
        }
      },
      "source": [
        "new_df.head(2)"
      ],
      "execution_count": 43,
      "outputs": [
        {
          "output_type": "execute_result",
          "data": {
            "text/html": [
              "<div>\n",
              "<style scoped>\n",
              "    .dataframe tbody tr th:only-of-type {\n",
              "        vertical-align: middle;\n",
              "    }\n",
              "\n",
              "    .dataframe tbody tr th {\n",
              "        vertical-align: top;\n",
              "    }\n",
              "\n",
              "    .dataframe thead th {\n",
              "        text-align: right;\n",
              "    }\n",
              "</style>\n",
              "<table border=\"1\" class=\"dataframe\">\n",
              "  <thead>\n",
              "    <tr style=\"text-align: right;\">\n",
              "      <th></th>\n",
              "      <th>locations</th>\n",
              "      <th>total_cases</th>\n",
              "    </tr>\n",
              "  </thead>\n",
              "  <tbody>\n",
              "    <tr>\n",
              "      <th>0</th>\n",
              "      <td>Acton</td>\n",
              "      <td>0</td>\n",
              "    </tr>\n",
              "    <tr>\n",
              "      <th>1</th>\n",
              "      <td>Adams</td>\n",
              "      <td>0</td>\n",
              "    </tr>\n",
              "  </tbody>\n",
              "</table>\n",
              "</div>"
            ],
            "text/plain": [
              "  locations  total_cases\n",
              "0     Acton            0\n",
              "1     Adams            0"
            ]
          },
          "metadata": {
            "tags": []
          },
          "execution_count": 43
        }
      ]
    },
    {
      "cell_type": "code",
      "metadata": {
        "id": "AVYpxX0Uzg1y",
        "colab_type": "code",
        "colab": {}
      },
      "source": [
        ""
      ],
      "execution_count": 0,
      "outputs": []
    }
  ]
}